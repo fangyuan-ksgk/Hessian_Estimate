{
 "cells": [
  {
   "cell_type": "code",
   "execution_count": 1,
   "metadata": {},
   "outputs": [],
   "source": [
    "import matplotlib.pyplot as plt\n",
    "import numpy as np\n",
    "import torch\n",
    "from torch.autograd.functional import hessian\n",
    "from torch.autograd.functional import jacobian as jac\n",
    "import progressbar\n",
    "tod = torch.distributions\n",
    "from tensorflow.keras.utils import Progbar\n",
    "import pkbar\n",
    "from torch.distributions import Categorical\n",
    "\n",
    "import hessianestimate\n",
    "from hessianestimate.hessian import Condpf\n",
    "import hessianestimate.hessian as hessestimate"
   ]
  },
  {
   "cell_type": "code",
   "execution_count": 2,
   "metadata": {},
   "outputs": [],
   "source": [
    "\"\"\"\n",
    "An example of how to initialize a Partially Observed Diffusion Process with Discrete Observation\n",
    "Model (PODPDO). Here we initializes a FitzHugh–Nagumo Model as in the simulation section of our paper.\n",
    "\"\"\"\n",
    "\n",
    "class PODPDO(torch.nn.Module):\n",
    "\n",
    "    # dx=dy=2\n",
    "    def __init__(self):\n",
    "        super().__init__()\n",
    "        \"let us try to use theta as a tensor instead\"\n",
    "        self.theta = torch.tensor([1.0,0.2,0.4,0.5])\n",
    "        #self.theta = torch.nn.Parameter(torch.tensor([1.0,1.0,1.0,0.04]))\n",
    "        self.sig = torch.tensor([0.2,0.4])\n",
    "    \n",
    "    # Drift function: x shape [N, dx] or [-1, dx] in python language\n",
    "    def mu(self, x):\n",
    "        drift_coef = torch.zeros_like(x)\n",
    "        drift_coef[:,0] = self.theta[0] * (x[:,0] - x[:,0]**3 - x[:,1])\n",
    "        drift_coef[:,1] = self.theta[1] * x[:,0] - x[:,1] + self.theta[2]\n",
    "        return drift_coef\n",
    "\n",
    "    # Diffusion function: x shape [N, dx] or [-1, dx] in python language\n",
    "    def sigma(self, x):\n",
    "        return (self.sig * torch.eye(x.shape[-1])).repeat(x.shape[0],1,1)\n",
    "    \n",
    "    # log PDF of Y_t|X_t : x shape [N, dx] y shape [dy]\n",
    "    def likelihood_logscale(self, x, y):\n",
    "        dist_yx = tod.MultivariateNormal(loc=x, covariance_matrix=torch.eye(y.shape[-1])*self.theta[3]**2)\n",
    "        gn = dist_yx.log_prob(y)\n",
    "        return gn\n",
    "    \n",
    "    # Distribution of Y_t|X_t: x shape [N, dx] or [-1, dx] in python language\n",
    "    def dist_yx(self, x):\n",
    "        dist_yx = tod.MultivariateNormal(loc=x, covariance_matrix=torch.eye(x.shape[-1])*self.theta[3]**2)\n",
    "        return dist_yx"
   ]
  },
  {
   "cell_type": "code",
   "execution_count": 3,
   "metadata": {},
   "outputs": [],
   "source": [
    "l = 4\n",
    "T = 5\n",
    "N = 50\n",
    "dx = 2\n",
    "dy = 2\n",
    "initial_val = 1\n",
    "param = [l,T,N,dx,dy,initial_val]"
   ]
  },
  {
   "cell_type": "code",
   "execution_count": 4,
   "metadata": {},
   "outputs": [],
   "source": [
    "fhn = PODPDO()\n",
    "cond = Condpf(fhn, param)\n",
    "cond1 = Condpf(fhn, param)\n",
    "cond1.l = 6\n",
    "\n",
    "# record True theta Value\n",
    "theta_true = cond.model.theta\n",
    "\n",
    "# training data generation\n",
    "train_data = []\n",
    "for i in range(100):\n",
    "    ini_path = cond.initial_path_gen()\n",
    "    observe_path = cond.model.dist_yx(ini_path).sample()[0::2**l]\n",
    "    train_data.append(observe_path)\n",
    "    \n",
    "train_data_new = []\n",
    "for i in range(100):\n",
    "    ini_path = cond1.initial_path_gen()\n",
    "    observe_path = cond1.model.dist_yx(ini_path).sample()[0::2**(l+2)]\n",
    "    train_data_new.append(observe_path)"
   ]
  },
  {
   "cell_type": "code",
   "execution_count": 13,
   "metadata": {},
   "outputs": [
    {
     "name": "stdout",
     "output_type": "stream",
     "text": [
      "R&G estimate of Hessian calculating\n",
      "100/100  [============] - 31.0s\n"
     ]
    },
    {
     "data": {
      "text/plain": [
       "tensor([[  8.5317,  -6.7877,  -6.8949,  15.9412],\n",
       "        [ -6.7877,  -9.5827,   2.4302,  -1.2907],\n",
       "        [ -6.8949,   2.4302, -11.5650,  -5.3529],\n",
       "        [ 15.9412,  -1.2907,  -5.3529, -40.2799]])"
      ]
     },
     "execution_count": 13,
     "metadata": {},
     "output_type": "execute_result"
    }
   ],
   "source": [
    "'M=100 for the R&G estimate of Hessian of loglikelihood of observations from time 1 to T'\n",
    "hessestimate.RGhessian(cond, observe_path, 100)"
   ]
  },
  {
   "cell_type": "code",
   "execution_count": 26,
   "metadata": {},
   "outputs": [],
   "source": [
    "\"\"\"\n",
    "For general PODPDO model, analytical solution of Hessian is not possible, to verify the\n",
    "approach, note that the estimation of score function is essentially obtained similarly, \n",
    "and a correct estimation combined with SGD ensures that we can learn the true parameter\n",
    "theta. Which is what we will do here\n",
    "\"\"\"\n",
    "\n",
    "\"SGD algorithm\"\n",
    "def SGD_estimate_grad(theta_train, condpf, data, epsilon_g=0.001, alpha=0.001):\n",
    "    condpf.model.theta = theta_train\n",
    "    grad_val = -hessestimate.score_est(condpf, data, rep_num=200)\n",
    "    converge = (torch.max(abs(grad_val)) < epsilon_g)\n",
    "    ## search direction normalized vector\n",
    "    p = - grad_val\n",
    "    theta_train = theta_train + p * alpha\n",
    "    # for general model, we will not be able to get the 'loss' function\n",
    "    return theta_train, converge, grad_val"
   ]
  },
  {
   "cell_type": "code",
   "execution_count": null,
   "metadata": {},
   "outputs": [],
   "source": [
    "\"Trainig Loop for SGD\"\n",
    "\n",
    "theta_train = torch.tensor([0.8,0.8,0.8,0.8])\n",
    "\n",
    "metrics_names = ['acc']\n",
    "epochs = 8\n",
    "num_training_data = len(train_data_new)\n",
    "theta_vals = torch.zeros((epochs*num_training_data, theta_true.shape[0]))\n",
    "converge_time = []\n",
    "meet_converg = False\n",
    "\n",
    "for i in range(epochs):\n",
    "    kbar = pkbar.Kbar(target=len(train_data_new), epoch=i, num_epochs=epochs, width=12)\n",
    "    \n",
    "    for j, single_data in enumerate(train_data_new):\n",
    "        # train step\n",
    "        theta_train, converge, grad_value = SGD_estimate_grad(theta_train, cond, single_data)\n",
    "        # convergence threshold\n",
    "        if hessestimate.acc_param(theta_true, theta_train) > 0.92:\n",
    "            converge_time.append(len(train_data_new)*i + j)\n",
    "            meet_converg = True\n",
    "        # Set the terminate mechanism. stop training once convergence is reached\n",
    "        if meet_converg:\n",
    "            break\n",
    "        theta_vals[i*num_training_data+j] = theta_train\n",
    "        \n",
    "        kbar.update(j,values=[('theta acc', hessestimate.acc_param(theta_true,theta_train))])\n",
    "    # Set the terminate mechanism, stop training once convergence is reached\n",
    "    if meet_converg:\n",
    "        break\n",
    "    kbar.add(1)\n",
    "    \n",
    "plt.plot(theta_vals[:,0], label='learned $theta_{1}$')\n",
    "plt.plot(theta_vals[:,1], label='learned $theta_{2}$')\n",
    "plt.plot(theta_vals[:,2], label='learned $theta_{3}$')\n",
    "plt.plot(theta_vals[:,3], label='learned $theta_{4}$')\n",
    "\n",
    "plt.axhline(y=theta_true[0], color='k', linestyle=':')\n",
    "plt.axhline(y=theta_true[1], color='k', linestyle='--')\n",
    "plt.axhline(y=theta_true[2], color='k', linestyle=':')\n",
    "plt.axhline(y=theta_true[3], color='k', linestyle='--')\n",
    "\n",
    "plt.xlabel('Epochs')\n",
    "plt.ylabel('Trained values')\n",
    "plt.title('SGD Convergence Plot')\n",
    "plt.legend()\n",
    "plt.show()\n",
    "print('Convergence reached at iteration',converge_time[0])"
   ]
  },
  {
   "cell_type": "markdown",
   "metadata": {},
   "source": [
    "Previous Results: Convergence reached at iteration 714, training successful."
   ]
  },
  {
   "attachments": {
    "a72407f4-2509-47c6-bc4b-b3210d4876ca.png": {
     "image/png": "[encoded data removed]"
    }
   },
   "cell_type": "markdown",
   "metadata": {},
   "source": [
    "![image.png](attachment:a72407f4-2509-47c6-bc4b-b3210d4876ca.png)"
   ]
  },
  {
   "cell_type": "code",
   "execution_count": 28,
   "metadata": {},
   "outputs": [],
   "source": [
    "\"Newton algorithm\"\n",
    "def Newton_estimate(theta_train, condpf, data, epsilon_g=0.001, alpha=0.001):\n",
    "    condpf.model.theta = theta_train\n",
    "    grad_val = - hessestimate.score_est(condpf, data, rep_num=200)\n",
    "    hess_val = - hessestimate.hessian_data_logprob_est(condpf, data, rep_num=200)\n",
    "    ## search direction normalized vector\n",
    "    step = torch.inverse(hess_val) @ torch.unsqueeze(grad_val, axis=1)\n",
    "    step = torch.squeeze(step)\n",
    "    theta_train = theta_train + step * alpha  \n",
    "    return theta_train"
   ]
  },
  {
   "cell_type": "code",
   "execution_count": null,
   "metadata": {},
   "outputs": [],
   "source": [
    "\"\"\"\n",
    "Note that Newton method admits only local convergence, so its performance depends on proper\n",
    "choice of initial position of training parameter, as well as the observations. This cell thus\n",
    "does has stable training effect\n",
    "\n",
    "More stable 2nd order optimization scheme can be applied with our Hessian estimation to obtain \n",
    "better training speed for unknown parameter for PODPDO models.\n",
    "\"\"\"\n",
    "\n",
    "theta_train = torch.tensor([0.8,0.8,0.8,0.8])\n",
    "\n",
    "metrics_names = ['acc']\n",
    "epochs = 8\n",
    "num_training_data = len(train_data_new)\n",
    "theta_vals = torch.zeros((epochs*num_training_data, theta_true.shape[0]))\n",
    "converge_time = []\n",
    "meet_converg = False\n",
    "\n",
    "for i in range(epochs):\n",
    "    kbar = pkbar.Kbar(target=len(train_data_new), epoch=i, num_epochs=epochs, width=12)\n",
    "    \n",
    "    for j, single_data in enumerate(train_data_new):\n",
    "        # train step\n",
    "        theta_train = Newton_estimate(theta_train, cond, single_data)\n",
    "        # convergence threshold\n",
    "        if acc_param(theta_true, theta_train) > 0.92:\n",
    "            converge_time.append(len(train_data_new)*i + j)\n",
    "            meet_converg = True\n",
    "        # Set the terminate mechanism. stop training once convergence is reached\n",
    "        if meet_converg:\n",
    "            break\n",
    "        theta_vals[i*num_training_data+j] = theta_train\n",
    "        \n",
    "        kbar.update(j,values=[('theta acc', acc_param(theta_true,theta_train))])\n",
    "    # Set the terminate mechanism, stop training once convergence is reached\n",
    "    if meet_converg:\n",
    "        break\n",
    "    kbar.add(1)\n",
    "    \n",
    "plt.plot(theta_vals[:,0], label='learned $theta_{1}$')\n",
    "plt.plot(theta_vals[:,1], label='learned $theta_{2}$')\n",
    "plt.plot(theta_vals[:,2], label='learned $theta_{3}$')\n",
    "plt.plot(theta_vals[:,3], label='learned $theta_{4}$')\n",
    "\n",
    "plt.axhline(y=theta_true[0], color='k', linestyle=':')\n",
    "plt.axhline(y=theta_true[1], color='k', linestyle='--')\n",
    "plt.axhline(y=theta_true[2], color='k', linestyle=':')\n",
    "plt.axhline(y=theta_true[3], color='k', linestyle='--')\n",
    "\n",
    "plt.xlabel('Epochs')\n",
    "plt.ylabel('Trained values')\n",
    "plt.title('Newton Convergence Plot')\n",
    "plt.legend()\n",
    "plt.show()\n",
    "print('Convergence reached at iteration',converge_time[0])"
   ]
  }
 ],
 "metadata": {
  "kernelspec": {
   "display_name": "Python 3",
   "language": "python",
   "name": "python3"
  },
  "language_info": {
   "codemirror_mode": {
    "name": "ipython",
    "version": 3
   },
   "file_extension": ".py",
   "mimetype": "text/x-python",
   "name": "python",
   "nbconvert_exporter": "python",
   "pygments_lexer": "ipython3",
   "version": "3.7.7"
  }
 },
 "nbformat": 4,
 "nbformat_minor": 4
}
